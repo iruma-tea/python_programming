{
 "cells": [
  {
   "cell_type": "code",
   "execution_count": 1,
   "id": "bf9d7228",
   "metadata": {},
   "outputs": [
    {
     "data": {
      "text/html": [
       "<div>\n",
       "<style scoped>\n",
       "    .dataframe tbody tr th:only-of-type {\n",
       "        vertical-align: middle;\n",
       "    }\n",
       "\n",
       "    .dataframe tbody tr th {\n",
       "        vertical-align: top;\n",
       "    }\n",
       "\n",
       "    .dataframe thead th {\n",
       "        text-align: right;\n",
       "    }\n",
       "</style>\n",
       "<table border=\"1\" class=\"dataframe\">\n",
       "  <thead>\n",
       "    <tr style=\"text-align: right;\">\n",
       "      <th></th>\n",
       "      <th>A</th>\n",
       "      <th>B</th>\n",
       "      <th>C</th>\n",
       "      <th>D</th>\n",
       "    </tr>\n",
       "  </thead>\n",
       "  <tbody>\n",
       "    <tr>\n",
       "      <th>2022-01-06</th>\n",
       "      <td>-0.847807</td>\n",
       "      <td>-0.394648</td>\n",
       "      <td>1.771933</td>\n",
       "      <td>0.768985</td>\n",
       "    </tr>\n",
       "    <tr>\n",
       "      <th>2022-01-01</th>\n",
       "      <td>-1.642978</td>\n",
       "      <td>-0.308754</td>\n",
       "      <td>-1.366633</td>\n",
       "      <td>0.752398</td>\n",
       "    </tr>\n",
       "    <tr>\n",
       "      <th>2022-01-04</th>\n",
       "      <td>-0.349376</td>\n",
       "      <td>-0.267834</td>\n",
       "      <td>1.456269</td>\n",
       "      <td>0.661607</td>\n",
       "    </tr>\n",
       "    <tr>\n",
       "      <th>2022-01-03</th>\n",
       "      <td>1.109888</td>\n",
       "      <td>0.574417</td>\n",
       "      <td>-0.546117</td>\n",
       "      <td>-0.937269</td>\n",
       "    </tr>\n",
       "    <tr>\n",
       "      <th>2022-01-02</th>\n",
       "      <td>2.442494</td>\n",
       "      <td>0.856484</td>\n",
       "      <td>-0.293298</td>\n",
       "      <td>-0.188591</td>\n",
       "    </tr>\n",
       "    <tr>\n",
       "      <th>2022-01-05</th>\n",
       "      <td>-0.999802</td>\n",
       "      <td>1.020476</td>\n",
       "      <td>-1.111931</td>\n",
       "      <td>-0.392360</td>\n",
       "    </tr>\n",
       "  </tbody>\n",
       "</table>\n",
       "</div>"
      ],
      "text/plain": [
       "                   A         B         C         D\n",
       "2022-01-06 -0.847807 -0.394648  1.771933  0.768985\n",
       "2022-01-01 -1.642978 -0.308754 -1.366633  0.752398\n",
       "2022-01-04 -0.349376 -0.267834  1.456269  0.661607\n",
       "2022-01-03  1.109888  0.574417 -0.546117 -0.937269\n",
       "2022-01-02  2.442494  0.856484 -0.293298 -0.188591\n",
       "2022-01-05 -0.999802  1.020476 -1.111931 -0.392360"
      ]
     },
     "execution_count": 1,
     "metadata": {},
     "output_type": "execute_result"
    }
   ],
   "source": [
    "import numpy as np\n",
    "import pandas as pd\n",
    "\n",
    "df = pd.DataFrame(np.random.randn(6, 4), index=pd.date_range('20220101', periods=6), columns=['A', 'B', 'C', 'D'])\n",
    "df.sort_values(by='B')\n"
   ]
  }
 ],
 "metadata": {
  "kernelspec": {
   "display_name": ".venv",
   "language": "python",
   "name": "python3"
  },
  "language_info": {
   "codemirror_mode": {
    "name": "ipython",
    "version": 3
   },
   "file_extension": ".py",
   "mimetype": "text/x-python",
   "name": "python",
   "nbconvert_exporter": "python",
   "pygments_lexer": "ipython3",
   "version": "3.13.3"
  }
 },
 "nbformat": 4,
 "nbformat_minor": 5
}
