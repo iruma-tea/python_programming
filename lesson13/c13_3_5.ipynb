{
 "cells": [
  {
   "cell_type": "code",
   "execution_count": 1,
   "id": "bf9d7228",
   "metadata": {},
   "outputs": [
    {
     "data": {
      "text/html": [
       "<div>\n",
       "<style scoped>\n",
       "    .dataframe tbody tr th:only-of-type {\n",
       "        vertical-align: middle;\n",
       "    }\n",
       "\n",
       "    .dataframe tbody tr th {\n",
       "        vertical-align: top;\n",
       "    }\n",
       "\n",
       "    .dataframe thead th {\n",
       "        text-align: right;\n",
       "    }\n",
       "</style>\n",
       "<table border=\"1\" class=\"dataframe\">\n",
       "  <thead>\n",
       "    <tr style=\"text-align: right;\">\n",
       "      <th></th>\n",
       "      <th>0</th>\n",
       "      <th>1</th>\n",
       "      <th>2</th>\n",
       "      <th>3</th>\n",
       "    </tr>\n",
       "  </thead>\n",
       "  <tbody>\n",
       "    <tr>\n",
       "      <th>2022-01-01</th>\n",
       "      <td>0.228546</td>\n",
       "      <td>-1.695483</td>\n",
       "      <td>-1.781720</td>\n",
       "      <td>-0.096832</td>\n",
       "    </tr>\n",
       "    <tr>\n",
       "      <th>2022-01-02</th>\n",
       "      <td>0.641450</td>\n",
       "      <td>0.577344</td>\n",
       "      <td>0.295881</td>\n",
       "      <td>-0.384871</td>\n",
       "    </tr>\n",
       "    <tr>\n",
       "      <th>2022-01-03</th>\n",
       "      <td>-2.008940</td>\n",
       "      <td>1.449822</td>\n",
       "      <td>1.057848</td>\n",
       "      <td>-0.381783</td>\n",
       "    </tr>\n",
       "    <tr>\n",
       "      <th>2022-01-04</th>\n",
       "      <td>0.359180</td>\n",
       "      <td>-0.864344</td>\n",
       "      <td>-0.044362</td>\n",
       "      <td>-0.429830</td>\n",
       "    </tr>\n",
       "    <tr>\n",
       "      <th>2022-01-05</th>\n",
       "      <td>0.158431</td>\n",
       "      <td>1.405244</td>\n",
       "      <td>0.363224</td>\n",
       "      <td>-1.681246</td>\n",
       "    </tr>\n",
       "    <tr>\n",
       "      <th>2022-01-06</th>\n",
       "      <td>-1.599815</td>\n",
       "      <td>-0.303428</td>\n",
       "      <td>-0.706226</td>\n",
       "      <td>0.683003</td>\n",
       "    </tr>\n",
       "  </tbody>\n",
       "</table>\n",
       "</div>"
      ],
      "text/plain": [
       "                   0         1         2         3\n",
       "2022-01-01  0.228546 -1.695483 -1.781720 -0.096832\n",
       "2022-01-02  0.641450  0.577344  0.295881 -0.384871\n",
       "2022-01-03 -2.008940  1.449822  1.057848 -0.381783\n",
       "2022-01-04  0.359180 -0.864344 -0.044362 -0.429830\n",
       "2022-01-05  0.158431  1.405244  0.363224 -1.681246\n",
       "2022-01-06 -1.599815 -0.303428 -0.706226  0.683003"
      ]
     },
     "execution_count": 1,
     "metadata": {},
     "output_type": "execute_result"
    }
   ],
   "source": [
    "import numpy as np\n",
    "import pandas as pd\n",
    "\n",
    "df = pd.DataFrame(np.random.randn(6, 4), index=pd.date_range('20220101', periods=6))\n",
    "df"
   ]
  }
 ],
 "metadata": {
  "kernelspec": {
   "display_name": ".venv",
   "language": "python",
   "name": "python3"
  },
  "language_info": {
   "codemirror_mode": {
    "name": "ipython",
    "version": 3
   },
   "file_extension": ".py",
   "mimetype": "text/x-python",
   "name": "python",
   "nbconvert_exporter": "python",
   "pygments_lexer": "ipython3",
   "version": "3.13.3"
  }
 },
 "nbformat": 4,
 "nbformat_minor": 5
}
