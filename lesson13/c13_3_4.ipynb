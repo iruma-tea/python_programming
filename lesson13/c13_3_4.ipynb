{
 "cells": [
  {
   "cell_type": "code",
   "execution_count": 1,
   "id": "bf9d7228",
   "metadata": {},
   "outputs": [
    {
     "data": {
      "text/html": [
       "<div>\n",
       "<style scoped>\n",
       "    .dataframe tbody tr th:only-of-type {\n",
       "        vertical-align: middle;\n",
       "    }\n",
       "\n",
       "    .dataframe tbody tr th {\n",
       "        vertical-align: top;\n",
       "    }\n",
       "\n",
       "    .dataframe thead th {\n",
       "        text-align: right;\n",
       "    }\n",
       "</style>\n",
       "<table border=\"1\" class=\"dataframe\">\n",
       "  <thead>\n",
       "    <tr style=\"text-align: right;\">\n",
       "      <th></th>\n",
       "      <th>0</th>\n",
       "      <th>1</th>\n",
       "      <th>2</th>\n",
       "      <th>3</th>\n",
       "    </tr>\n",
       "  </thead>\n",
       "  <tbody>\n",
       "    <tr>\n",
       "      <th>0</th>\n",
       "      <td>0.011921</td>\n",
       "      <td>-0.406644</td>\n",
       "      <td>-1.430568</td>\n",
       "      <td>0.096646</td>\n",
       "    </tr>\n",
       "    <tr>\n",
       "      <th>1</th>\n",
       "      <td>-0.511569</td>\n",
       "      <td>0.252801</td>\n",
       "      <td>0.410504</td>\n",
       "      <td>-0.206851</td>\n",
       "    </tr>\n",
       "    <tr>\n",
       "      <th>2</th>\n",
       "      <td>0.638808</td>\n",
       "      <td>0.371154</td>\n",
       "      <td>-0.918398</td>\n",
       "      <td>-0.716939</td>\n",
       "    </tr>\n",
       "    <tr>\n",
       "      <th>3</th>\n",
       "      <td>0.316849</td>\n",
       "      <td>1.480418</td>\n",
       "      <td>-0.147626</td>\n",
       "      <td>-0.179360</td>\n",
       "    </tr>\n",
       "    <tr>\n",
       "      <th>4</th>\n",
       "      <td>0.783976</td>\n",
       "      <td>-0.307385</td>\n",
       "      <td>1.095649</td>\n",
       "      <td>-0.415330</td>\n",
       "    </tr>\n",
       "    <tr>\n",
       "      <th>5</th>\n",
       "      <td>-0.735430</td>\n",
       "      <td>-1.118690</td>\n",
       "      <td>-0.228957</td>\n",
       "      <td>-1.021926</td>\n",
       "    </tr>\n",
       "  </tbody>\n",
       "</table>\n",
       "</div>"
      ],
      "text/plain": [
       "          0         1         2         3\n",
       "0  0.011921 -0.406644 -1.430568  0.096646\n",
       "1 -0.511569  0.252801  0.410504 -0.206851\n",
       "2  0.638808  0.371154 -0.918398 -0.716939\n",
       "3  0.316849  1.480418 -0.147626 -0.179360\n",
       "4  0.783976 -0.307385  1.095649 -0.415330\n",
       "5 -0.735430 -1.118690 -0.228957 -1.021926"
      ]
     },
     "execution_count": 1,
     "metadata": {},
     "output_type": "execute_result"
    }
   ],
   "source": [
    "import numpy as np\n",
    "import pandas as pd\n",
    "\n",
    "df = pd.DataFrame(np.random.randn(6, 4))\n",
    "df"
   ]
  }
 ],
 "metadata": {
  "kernelspec": {
   "display_name": ".venv",
   "language": "python",
   "name": "python3"
  },
  "language_info": {
   "codemirror_mode": {
    "name": "ipython",
    "version": 3
   },
   "file_extension": ".py",
   "mimetype": "text/x-python",
   "name": "python",
   "nbconvert_exporter": "python",
   "pygments_lexer": "ipython3",
   "version": "3.13.3"
  }
 },
 "nbformat": 4,
 "nbformat_minor": 5
}
