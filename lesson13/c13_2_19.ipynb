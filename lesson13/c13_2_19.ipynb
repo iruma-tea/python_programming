{
 "cells": [
  {
   "cell_type": "code",
   "execution_count": 1,
   "id": "f6a849fe",
   "metadata": {},
   "outputs": [
    {
     "data": {
      "text/plain": [
       "array([ 0,  2,  4,  6,  8,  0,  1,  2,  3,  4,  0, 20, 40, 60, 80])"
      ]
     },
     "execution_count": 1,
     "metadata": {},
     "output_type": "execute_result"
    }
   ],
   "source": [
    "import numpy as np\n",
    "\n",
    "x = np.arange(0, 10, 2)\n",
    "y = np.arange(5)\n",
    "z = np.arange(0, 100, 20)\n",
    "\n",
    "np.hstack([x, y, z])"
   ]
  }
 ],
 "metadata": {
  "kernelspec": {
   "display_name": ".venv",
   "language": "python",
   "name": "python3"
  },
  "language_info": {
   "codemirror_mode": {
    "name": "ipython",
    "version": 3
   },
   "file_extension": ".py",
   "mimetype": "text/x-python",
   "name": "python",
   "nbconvert_exporter": "python",
   "pygments_lexer": "ipython3",
   "version": "3.13.3"
  }
 },
 "nbformat": 4,
 "nbformat_minor": 5
}
