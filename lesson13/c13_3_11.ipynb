{
 "cells": [
  {
   "cell_type": "code",
   "execution_count": 1,
   "id": "bf9d7228",
   "metadata": {},
   "outputs": [
    {
     "data": {
      "text/plain": [
       "array([[-0.65418378, -1.00095555, -0.54521075,  0.01024183],\n",
       "       [ 0.1416146 ,  0.75088753, -1.26115266, -1.83098573],\n",
       "       [ 1.68294223, -0.02756646, -0.75231607,  0.09747588],\n",
       "       [ 0.54186788, -0.11834776,  0.60621177, -1.41302952],\n",
       "       [-0.3662726 , -0.91369028,  1.2614676 , -0.17533405],\n",
       "       [ 1.11987607, -0.31014064, -1.02722091, -0.93879443]])"
      ]
     },
     "execution_count": 1,
     "metadata": {},
     "output_type": "execute_result"
    }
   ],
   "source": [
    "import numpy as np\n",
    "import pandas as pd\n",
    "\n",
    "df = pd.DataFrame(np.random.randn(6, 4), index=pd.date_range('20220101', periods=6), columns=['A', 'B', 'C', 'D'])\n",
    "df.values\n"
   ]
  }
 ],
 "metadata": {
  "kernelspec": {
   "display_name": ".venv",
   "language": "python",
   "name": "python3"
  },
  "language_info": {
   "codemirror_mode": {
    "name": "ipython",
    "version": 3
   },
   "file_extension": ".py",
   "mimetype": "text/x-python",
   "name": "python",
   "nbconvert_exporter": "python",
   "pygments_lexer": "ipython3",
   "version": "3.13.3"
  }
 },
 "nbformat": 4,
 "nbformat_minor": 5
}
